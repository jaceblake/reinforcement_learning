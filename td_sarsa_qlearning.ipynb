{
 "cells": [
  {
   "cell_type": "code",
   "execution_count": 16,
   "metadata": {},
   "outputs": [],
   "source": [
    "\n",
    "import numpy as np\n",
    "import matplotlib.pyplot as plt\n",
    "%matplotlib inline\n",
    "\n"
   ]
  },
  {
   "cell_type": "code",
   "execution_count": 17,
   "metadata": {},
   "outputs": [],
   "source": [
    "import gym\n",
    "env = gym.make('FrozenLake-v0')"
   ]
  },
  {
   "cell_type": "code",
   "execution_count": 18,
   "metadata": {},
   "outputs": [
    {
     "name": "stdout",
     "output_type": "stream",
     "text": [
      "{0: 1, 1: 2, 2: 1, 3: 0, 4: 1, 6: 1, 8: 2, 9: 0, 10: 1, 13: 2, 14: 2}\n"
     ]
    }
   ],
   "source": [
    "\n",
    "pi = {0:1, 1:2, 2:1, 3:0, 4:1, 6:1, 8:2, 9:0, 10:1, 13:2, 14:2}\n",
    "print(pi)"
   ]
  },
  {
   "cell_type": "code",
   "execution_count": 19,
   "metadata": {},
   "outputs": [],
   "source": [
    "\n",
    "nb_episodes = 1000000\n",
    "alpha = 0.05\n",
    "gamma = 0.99\n",
    "action_size = env.action_space.n\n",
    "state_space_size = env.observation_space.n\n",
    "epsilon=0.1"
   ]
  },
  {
   "cell_type": "code",
   "execution_count": 20,
   "metadata": {},
   "outputs": [],
   "source": [
    "\n",
    "def compute_V(nb_episodes,policy,v = np.zeros(state_space_size)):\n",
    "    \n",
    "    for i in range(nb_episodes):\n",
    "        done = False\n",
    "        observation = env.reset()\n",
    "        while not done: \n",
    "            action = policy[observation]\n",
    "            new_observation, reward, done, info = env.step(action)\n",
    "            v[observation] = v[observation] + alpha * (reward + gamma * v[new_observation] - v[observation])\n",
    "            observation = new_observation\n",
    "    return v\n"
   ]
  },
  {
   "cell_type": "code",
   "execution_count": 21,
   "metadata": {},
   "outputs": [
    {
     "name": "stdout",
     "output_type": "stream",
     "text": [
      "[ 0.02489294  0.02555681  0.05079326  0.02147446  0.02879586  0.\n",
      "  0.07941636  0.          0.03805486  0.13641117  0.25195514  0.          0.\n",
      "  0.36998939  0.60067215  0.        ]\n"
     ]
    }
   ],
   "source": [
    "V = compute_V(nb_episodes,pi)\n",
    "print(V)"
   ]
  },
  {
   "cell_type": "code",
   "execution_count": 22,
   "metadata": {},
   "outputs": [],
   "source": [
    "\n",
    "\n",
    "def action_epsilon_greedy(q,state, epsilon=0.1):\n",
    "    if np.random.rand() > epsilon:\n",
    "        return np.argmax(q[state])\n",
    "    return np.random.randint(action_size)\n",
    "\n"
   ]
  },
  {
   "cell_type": "code",
   "execution_count": 23,
   "metadata": {},
   "outputs": [],
   "source": [
    "def epsilon_greedy(epsilon):\n",
    "    return lambda q,s: action_epsilon_greedy(q, s, epsilon=epsilon)"
   ]
  },
  {
   "cell_type": "code",
   "execution_count": 24,
   "metadata": {},
   "outputs": [],
   "source": [
    "\n",
    "def test_performance(policy, nb_episodes=1000):\n",
    "    sum_returns = 0\n",
    "    for i in range(nb_episodes):\n",
    "        state  = env.reset()\n",
    "        done = False\n",
    "        while not done:\n",
    "            action = policy[state]\n",
    "            state, reward, done, info = env.step(action)\n",
    "            if done:\n",
    "                sum_returns += reward\n",
    "    return sum_returns/nb_episodes\n",
    "\n"
   ]
  },
  {
   "cell_type": "code",
   "execution_count": 25,
   "metadata": {},
   "outputs": [],
   "source": [
    "def compute_Q_sarsa(nb_episodes,\n",
    "                    policy,\n",
    "                    q = np.zeros([state_space_size,action_size]),\n",
    "                    env=env):\n",
    "    progress = dict()\n",
    "    for i in range(nb_episodes):\n",
    "        done = False\n",
    "        state = env.reset()\n",
    "        action = action_epsilon_greedy(q, state, epsilon=epsilon)\n",
    "        while not done:\n",
    "            new_s, reward, done, info = env.step(action)\n",
    "            new_a = action_epsilon_greedy(q, new_s, epsilon=epsilon)\n",
    "            q[state, action] = q[state, action] + \\\n",
    "                                  alpha * (reward + gamma * \\\n",
    "                                        q[new_s, new_a] - q[state, action])\n",
    "                \n",
    "            policy[state] = np.argmax(q[state])\n",
    "            state = new_s\n",
    "            action = new_a\n",
    "        if i%200000 == 0:\n",
    "            progress[i] = test_performance(policy)\n",
    "        \n",
    "    return q,policy,progress"
   ]
  },
  {
   "cell_type": "code",
   "execution_count": 26,
   "metadata": {},
   "outputs": [
    {
     "name": "stdout",
     "output_type": "stream",
     "text": [
      "[[ 0.31606579  0.27183517  0.28444412  0.27357125]\n",
      " [ 0.19452166  0.17377727  0.14720994  0.25416343]\n",
      " [ 0.21381992  0.21616924  0.21214884  0.21366969]\n",
      " [ 0.151066    0.15136259  0.13727567  0.2078015 ]\n",
      " [ 0.33250682  0.24210843  0.21424746  0.22430119]\n",
      " [ 0.          0.          0.          0.        ]\n",
      " [ 0.1868167   0.1868041   0.16332678  0.06047723]\n",
      " [ 0.          0.          0.          0.        ]\n",
      " [ 0.19262144  0.26856855  0.2835523   0.36831408]\n",
      " [ 0.33768762  0.46778329  0.28164534  0.27066345]\n",
      " [ 0.51727392  0.42058531  0.32438799  0.26578503]\n",
      " [ 0.          0.          0.          0.        ]\n",
      " [ 0.          0.          0.          0.        ]\n",
      " [ 0.35579449  0.49053429  0.61278783  0.4661856 ]\n",
      " [ 0.62798401  0.81108464  0.70328047  0.71044952]\n",
      " [ 0.          0.          0.          0.        ]]\n",
      "{0: 0, 1: 3, 2: 1, 3: 3, 4: 0, 6: 0, 8: 3, 9: 1, 10: 0, 13: 2, 14: 1}\n"
     ]
    }
   ],
   "source": [
    "\n",
    "Q,new_pi,new_progress = compute_Q_sarsa(nb_episodes,pi)\n",
    "print(Q)\n",
    "print(new_pi)"
   ]
  },
  {
   "cell_type": "code",
   "execution_count": 27,
   "metadata": {},
   "outputs": [],
   "source": [
    "def plot_performance(progress):\n",
    "    plt.plot(progress.keys(),progress.values(),'-')\n",
    "    plt.xlabel(\"epochs\")\n",
    "    plt.ylabel(\"average reward of an epoch\")"
   ]
  },
  {
   "cell_type": "code",
   "execution_count": 28,
   "metadata": {},
   "outputs": [
    {
     "data": {
      "image/png": "[encoded data removed]",
      "text/plain": [
       "<matplotlib.figure.Figure at 0x7fd282621d30>"
      ]
     },
     "metadata": {},
     "output_type": "display_data"
    }
   ],
   "source": [
    "plot_performance(new_progress)"
   ]
  },
  {
   "cell_type": "code",
   "execution_count": 106,
   "metadata": {},
   "outputs": [
    {
     "data": {
      "text/plain": [
       "0.73"
      ]
     },
     "execution_count": 106,
     "metadata": {},
     "output_type": "execute_result"
    }
   ],
   "source": [
    "test_performance(new_pi)"
   ]
  },
  {
   "cell_type": "code",
   "execution_count": 107,
   "metadata": {},
   "outputs": [
    {
     "name": "stdout",
     "output_type": "stream",
     "text": [
      "{0: 1, 1: 2, 2: 1, 3: 0, 4: 1, 6: 1, 8: 2, 9: 0, 10: 1, 13: 2, 14: 2}\n"
     ]
    }
   ],
   "source": [
    "pi = {0:1, 1:2, 2:1, 3:0, 4:1, 6:1, 8:2, 9:0, 10:1, 13:2, 14:2}\n",
    "print(pi)"
   ]
  },
  {
   "cell_type": "code",
   "execution_count": 108,
   "metadata": {},
   "outputs": [],
   "source": [
    "def compute_Q_Off(nb_episodes,policy,q = np.zeros([state_space_size,action_size]), env=env):\n",
    "    \n",
    "    for i in range(nb_episodes):\n",
    "        done = False\n",
    "        state = env.reset()\n",
    "        while not done:\n",
    "            action = action_epsilon_greedy(q, state) # behaviour policy \n",
    "            new_s, reward, done, info = env.step(action)\n",
    "            a_max = np.argmax(q[new_s]) # target policy \n",
    "            q[state, action] = q[state, action] + alpha * \\\n",
    "                                     (reward + gamma * \\\n",
    "                                      q[new_s, a_max] - q[state, action])\n",
    "            policy[state] = np.argmax(q[state])\n",
    "            state = new_s\n",
    "    return q,policy"
   ]
  },
  {
   "cell_type": "code",
   "execution_count": 109,
   "metadata": {},
   "outputs": [
    {
     "name": "stdout",
     "output_type": "stream",
     "text": [
      "[[ 0.54442648  0.52748328  0.52235742  0.51394911]\n",
      " [ 0.32837377  0.3514402   0.36350516  0.4786896 ]\n",
      " [ 0.41643963  0.4283406   0.39181186  0.44854423]\n",
      " [ 0.33659633  0.30176235  0.27704556  0.43735511]\n",
      " [ 0.55668702  0.36397023  0.4063599   0.40884347]\n",
      " [ 0.          0.          0.          0.        ]\n",
      " [ 0.2919618   0.18501376  0.24650655  0.21074759]\n",
      " [ 0.          0.          0.          0.        ]\n",
      " [ 0.31353496  0.35450571  0.32493774  0.57647188]\n",
      " [ 0.44769324  0.62039099  0.50089254  0.45507406]\n",
      " [ 0.55820045  0.48116658  0.47556583  0.35345751]\n",
      " [ 0.          0.          0.          0.        ]\n",
      " [ 0.          0.          0.          0.        ]\n",
      " [ 0.35343295  0.52451831  0.74425935  0.51861865]\n",
      " [ 0.73712224  0.86500318  0.80066988  0.77180793]\n",
      " [ 0.          0.          0.          0.        ]]\n",
      "{0: 0, 1: 3, 2: 3, 3: 3, 4: 0, 6: 0, 8: 3, 9: 1, 10: 0, 13: 2, 14: 1}\n"
     ]
    }
   ],
   "source": [
    "Q_off,new_policy = compute_Q_Off(nb_episodes,pi)\n",
    "print(Q_off)\n",
    "print(new_policy)"
   ]
  },
  {
   "cell_type": "code",
   "execution_count": 110,
   "metadata": {},
   "outputs": [
    {
     "data": {
      "text/plain": [
       "0.74"
      ]
     },
     "execution_count": 110,
     "metadata": {},
     "output_type": "execute_result"
    }
   ],
   "source": [
    "test_performance(new_pi)"
   ]
  },
  {
   "cell_type": "code",
   "execution_count": null,
   "metadata": {},
   "outputs": [],
   "source": []
  },
  {
   "cell_type": "code",
   "execution_count": null,
   "metadata": {},
   "outputs": [],
   "source": []
  },
  {
   "cell_type": "code",
   "execution_count": null,
   "metadata": {},
   "outputs": [],
   "source": []
  }
 ],
 "metadata": {
  "kernelspec": {
   "display_name": "Python 3",
   "language": "python",
   "name": "python3"
  },
  "language_info": {
   "codemirror_mode": {
    "name": "ipython",
    "version": 3
   },
   "file_extension": ".py",
   "mimetype": "text/x-python",
   "name": "python",
   "nbconvert_exporter": "python",
   "pygments_lexer": "ipython3",
   "version": "3.4.2"
  }
 },
 "nbformat": 4,
 "nbformat_minor": 2
}
