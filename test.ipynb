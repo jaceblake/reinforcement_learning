{
 "cells": [
  {
   "cell_type": "code",
   "execution_count": 2,
   "metadata": {},
   "outputs": [],
   "source": [
    "import numpy as np"
   ]
  },
  {
   "cell_type": "code",
   "execution_count": 2,
   "metadata": {},
   "outputs": [
    {
     "data": {
      "text/plain": [
       "(16, 4)"
      ]
     },
     "execution_count": 2,
     "metadata": {},
     "output_type": "execute_result"
    }
   ],
   "source": [
    "Q = np.random.rand(16,4) # because we have 4 Actions\n",
    "Q.shape"
   ]
  },
  {
   "cell_type": "code",
   "execution_count": 40,
   "metadata": {},
   "outputs": [
    {
     "data": {
      "text/plain": [
       "1"
      ]
     },
     "execution_count": 40,
     "metadata": {},
     "output_type": "execute_result"
    }
   ],
   "source": [
    "np.random.randint(0,4)"
   ]
  },
  {
   "cell_type": "code",
   "execution_count": 6,
   "metadata": {},
   "outputs": [
    {
     "data": {
      "text/plain": [
       "0.76986265202830539"
      ]
     },
     "execution_count": 6,
     "metadata": {},
     "output_type": "execute_result"
    }
   ],
   "source": [
    "Q[(0,) + (3,)]"
   ]
  },
  {
   "cell_type": "code",
   "execution_count": 4,
   "metadata": {},
   "outputs": [
    {
     "data": {
      "text/plain": [
       "array([[ 0.3780609 ,  0.47227815,  0.06550868,  0.76986265],\n",
       "       [ 0.78333007,  0.22214209,  0.8697667 ,  0.62357454],\n",
       "       [ 0.25986589,  0.64785167,  0.85598829,  0.9078089 ],\n",
       "       [ 0.04169574,  0.66627619,  0.7159732 ,  0.61112752],\n",
       "       [ 0.91868772,  0.45312025,  0.82468125,  0.71268779],\n",
       "       [ 0.19586664,  0.55343148,  0.17108371,  0.06974644],\n",
       "       [ 0.00754686,  0.9066726 ,  0.83914833,  0.73225092],\n",
       "       [ 0.70681794,  0.83813718,  0.21305404,  0.57158459],\n",
       "       [ 0.66632802,  0.30129813,  0.67188396,  0.14930884],\n",
       "       [ 0.60353798,  0.12122535,  0.77563935,  0.58478815],\n",
       "       [ 0.89459706,  0.95002751,  0.44621333,  0.061105  ],\n",
       "       [ 0.40048644,  0.6241197 ,  0.0791014 ,  0.80819355],\n",
       "       [ 0.40614449,  0.59796343,  0.33006767,  0.19043067],\n",
       "       [ 0.29763703,  0.90226275,  0.65666303,  0.12921096],\n",
       "       [ 0.95136883,  0.06302215,  0.19800563,  0.5701836 ],\n",
       "       [ 0.41926621,  0.24216595,  0.77911317,  0.12529713]])"
      ]
     },
     "execution_count": 4,
     "metadata": {},
     "output_type": "execute_result"
    }
   ],
   "source": [
    "Q\n"
   ]
  },
  {
   "cell_type": "code",
   "execution_count": 3,
   "metadata": {},
   "outputs": [],
   "source": [
    " a = np.array([ 0. ,0. ,0. ,0.])"
   ]
  },
  {
   "cell_type": "code",
   "execution_count": 5,
   "metadata": {},
   "outputs": [
    {
     "data": {
      "text/plain": [
       "0"
      ]
     },
     "execution_count": 5,
     "metadata": {},
     "output_type": "execute_result"
    }
   ],
   "source": [
    "np.argmax(a)"
   ]
  },
  {
   "cell_type": "code",
   "execution_count": null,
   "metadata": {},
   "outputs": [],
   "source": []
  }
 ],
 "metadata": {
  "kernelspec": {
   "display_name": "Python 3",
   "language": "python",
   "name": "python3"
  },
  "language_info": {
   "codemirror_mode": {
    "name": "ipython",
    "version": 3
   },
   "file_extension": ".py",
   "mimetype": "text/x-python",
   "name": "python",
   "nbconvert_exporter": "python",
   "pygments_lexer": "ipython3",
   "version": "3.4.2"
  }
 },
 "nbformat": 4,
 "nbformat_minor": 2
}
